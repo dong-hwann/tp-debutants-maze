{
 "cells": [
  {
   "cell_type": "code",
   "execution_count": 34,
   "id": "5806869f",
   "metadata": {},
   "outputs": [],
   "source": [
    "# %%\n",
    "# Python standard library\n",
    "import math\n",
    "import random\n",
    "\n",
    "# custom utils\n",
    "from utils import display_maze\n",
    "from examples.dense_maze_4x3 import maze"
   ]
  },
  {
   "cell_type": "code",
   "execution_count": 42,
   "id": "62c5e237",
   "metadata": {},
   "outputs": [
    {
     "ename": "ImportError",
     "evalue": "cannot import name 'randit' from 'random' (c:\\miniconda\\envs\\snake\\lib\\random.py)",
     "output_type": "error",
     "traceback": [
      "\u001b[1;31m---------------------------------------------------------------------------\u001b[0m",
      "\u001b[1;31mImportError\u001b[0m                               Traceback (most recent call last)",
      "\u001b[1;32m~\\AppData\\Local\\Temp/ipykernel_23624/2247790192.py\u001b[0m in \u001b[0;36m<module>\u001b[1;34m\u001b[0m\n\u001b[0;32m     62\u001b[0m \u001b[1;31m#display_maze(empty_maze(10,10))\u001b[0m\u001b[1;33m\u001b[0m\u001b[1;33m\u001b[0m\u001b[0m\n\u001b[0;32m     63\u001b[0m \u001b[1;33m\u001b[0m\u001b[0m\n\u001b[1;32m---> 64\u001b[1;33m \u001b[1;32mfrom\u001b[0m \u001b[0mrandom\u001b[0m \u001b[1;32mimport\u001b[0m \u001b[0mrandit\u001b[0m\u001b[1;33m\u001b[0m\u001b[1;33m\u001b[0m\u001b[0m\n\u001b[0m\u001b[0;32m     65\u001b[0m \u001b[1;33m\u001b[0m\u001b[0m\n\u001b[0;32m     66\u001b[0m \u001b[1;32mdef\u001b[0m \u001b[0mmymaze\u001b[0m\u001b[1;33m(\u001b[0m\u001b[0mwidth\u001b[0m\u001b[1;33m,\u001b[0m\u001b[0mheight\u001b[0m\u001b[1;33m)\u001b[0m\u001b[1;33m:\u001b[0m\u001b[1;33m\u001b[0m\u001b[1;33m\u001b[0m\u001b[0m\n",
      "\u001b[1;31mImportError\u001b[0m: cannot import name 'randit' from 'random' (c:\\miniconda\\envs\\snake\\lib\\random.py)"
     ]
    }
   ],
   "source": [
    "# Votre code ici !\n",
    "#display_maze(maze)\n",
    "'''\n",
    "vertices = set([\n",
    "    (0,0),\n",
    "    (0,1),\n",
    "    (1,0),\n",
    "    (1,1)\n",
    "])\n",
    "\n",
    "edges = set([\n",
    "    ((0,0), (1,0)),\n",
    "    ((1,0), (0,0)),\n",
    "    ((1,1), (1,0)),\n",
    "    ((1,0), (1,1)),\n",
    "    ((1,1), (0,1)),\n",
    "    ((0,1), (1,1))\n",
    "])\n",
    "\n",
    "weights = {\n",
    "    ((0,0), (0,1)):1,\n",
    "    ((0,1), (0,0)):1\n",
    "}\n",
    "'''\n",
    "\n",
    "#display_maze((vertices,edges,weights))\n",
    "\n",
    "def full_maze(width, height):\n",
    "    vertices = set()\n",
    "    for col in range(width):\n",
    "        for row in range(height):\n",
    "            vertices.add((col,row))\n",
    "\n",
    "    edges = set()\n",
    "    weights = {}\n",
    "\n",
    "    return (vertices,edges,weights)\n",
    "#display_maze(full_maze(10,10))\n",
    "\n",
    "def empty_maze(width, height):\n",
    "    vertices = set()\n",
    "    for col in range(width):\n",
    "        for row in range(height):\n",
    "            vertices.add((col,row))\n",
    "\n",
    "    liens = []\n",
    "    weights = {}\n",
    "    for j in range(height):\n",
    "        for i in range(width - 1):\n",
    "            liens.append(((i,j),(i+1,j)))\n",
    "            liens.append(((i+1,j),(i,j)))\n",
    "    for i in range(width):\n",
    "        for j in range(height - 1):\n",
    "            liens.append(((i,j),(i, j+1)))\n",
    "            liens.append(((i,j+1),(i,j)))\n",
    "    \n",
    "    edges = set(liens)\n",
    "    for edge in edges:\n",
    "        weights[edge] = 1\n",
    "    return (vertices, edges, weights)\n",
    "\n",
    "#display_maze(empty_maze(10,10))\n",
    "\n",
    "from random import randit\n",
    "\n",
    "def mymaze(width,height):\n",
    "    vertices, edges, weights = empty_maze(width, height)\n",
    "    edges = {edge for edge in edges if (randint(1,4) == 1)}\n",
    "    weights = {edge: 1 for edge in edges}\n",
    "    return vertices, edges, weights\n",
    "\n",
    "display_maze(mymaze(10,10))\n",
    "    \n",
    "\n",
    "\n"
   ]
  },
  {
   "cell_type": "code",
   "execution_count": null,
   "id": "dc5ed238",
   "metadata": {},
   "outputs": [],
   "source": []
  }
 ],
 "metadata": {
  "interpreter": {
   "hash": "ee6ace0462304ec63507f1888f54685d75b1efdb16fb638a94715eec1370f5bb"
  },
  "kernelspec": {
   "display_name": "Python 3.9.7 64-bit ('snake': conda)",
   "name": "python3"
  },
  "language_info": {
   "codemirror_mode": {
    "name": "ipython",
    "version": 3
   },
   "file_extension": ".py",
   "mimetype": "text/x-python",
   "name": "python",
   "nbconvert_exporter": "python",
   "pygments_lexer": "ipython3",
   "version": "3.9.7"
  }
 },
 "nbformat": 4,
 "nbformat_minor": 5
}
